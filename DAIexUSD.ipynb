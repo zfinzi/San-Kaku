{
 "cells": [
  {
   "cell_type": "code",
   "execution_count": null,
   "metadata": {},
   "outputs": [],
   "source": [
    "def pullBuy(datastream):\n",
    "\n",
    "    ##function for determing the buy Dai price and the sell Dai price\n",
    "    return buy\n",
    "\n",
    "def pullBuylist(datastream):\n",
    "\n",
    "    ##function for determing the buy Dai price and the sell Dai price\n",
    "    return buylist\n",
    "\n",
    "def pullsell(datastream):\n",
    "\n",
    "    ##function for determing the buy Dai price and the sell Dai price\n",
    "    return buy\n",
    "\n",
    "def pullsellList(datastream):\n",
    "\n",
    "    ##function for determing the buy Dai price and the sell Dai price\n",
    "    return buy\n",
    "\n",
    "\n",
    "def main():\n",
    "\n",
    "    ##values for updating Dai listings\n",
    "    buy = pullBuy(gateAPI)\n",
    "    sell = pullSell(gateAPI)\n",
    "    buyOrders = pullBuylist(gateAPI)\n",
    "    sellOrders = pullsellList(gateAPI)\n",
    "    \n",
    "    ##threshold for init buy\n",
    "    buyThresh = 0.95\n",
    "    \n",
    "    ##fee price\n",
    "    fee = 0.002\n",
    "    \n",
    "    ##The desired profit\n",
    "    sellAction = .005\n",
    "    \n",
    "    if(buy <= buyThresh){\n",
    "        ##init buy function as pulled from API\n",
    "        \n",
    "        ##Point at which Dai was bought\n",
    "        buyPoint = buy\n",
    "    }\n",
    "    \n",
    "    if((sell-fee)/buyPoint >= sellAction){\n",
    "        ##init sell function as pulled from API\n",
    "        \n",
    "    }\n",
    "\n",
    "    \n",
    "        \n",
    "    "
   ]
  }
 ],
 "metadata": {
  "kernelspec": {
   "display_name": "Python 3",
   "language": "python",
   "name": "python3"
  },
  "language_info": {
   "codemirror_mode": {
    "name": "ipython",
    "version": 3
   },
   "file_extension": ".py",
   "mimetype": "text/x-python",
   "name": "python",
   "nbconvert_exporter": "python",
   "pygments_lexer": "ipython3",
   "version": "3.6.5"
  }
 },
 "nbformat": 4,
 "nbformat_minor": 2
}
