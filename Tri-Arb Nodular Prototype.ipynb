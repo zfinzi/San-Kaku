{
 "cells": [
  {
   "cell_type": "markdown",
   "metadata": {},
   "source": [
    "### Triangular Arbitrage Sample Code\n",
    "\n",
    "<br>\n",
    "\n",
    "Here is a sample of a nodular system of data storage and arbitrage flagging. Just above the code I have included a conceptual representation of the class itself.\n",
    "<br>\n",
    "![Node](https://i.imgur.com/AZ4n9b0.png)"
   ]
  },
  {
   "cell_type": "code",
   "execution_count": 5,
   "metadata": {},
   "outputs": [
    {
     "ename": "SyntaxError",
     "evalue": "invalid syntax (<ipython-input-5-3ec27e34a089>, line 9)",
     "output_type": "error",
     "traceback": [
      "\u001b[1;36m  File \u001b[1;32m\"<ipython-input-5-3ec27e34a089>\"\u001b[1;36m, line \u001b[1;32m9\u001b[0m\n\u001b[1;33m    \"coin2\" : \"EX2\"\u001b[0m\n\u001b[1;37m            ^\u001b[0m\n\u001b[1;31mSyntaxError\u001b[0m\u001b[1;31m:\u001b[0m invalid syntax\n"
     ]
    }
   ],
   "source": [
    "##Define a class that can store root coins with in and out rates\n",
    "class coin_Node(name, datastream):\n",
    "    coin = name\n",
    "    \n",
    "    ##Provides a dictionary of values in which other exchange rates for the root coin can be stored and quiered\n",
    "    ##Normally this would implement the API function that reads the values in\n",
    "    in_dict = {\n",
    "        \"coin1\" : \"EX1\"\n",
    "        \"coin2\" : \"EX2\"\n",
    "        \"coin3\" : \"EX3\"\n",
    "    }\n",
    "    \n",
    "    ##Provides a dictionary of values in which other exchange rates for other coins can be stored and quiered\n",
    "    ##Normally this would implement the API function that reads the values in\n",
    "    out_dict = {\n",
    "        \"coin1\" : \"EX1\",\n",
    "        \"coin2\" : \"EX2\",\n",
    "        \"coin3\" : \"EX3\"\n",
    "    }\n",
    "    \n",
    "    ##This function updates dictionaries based on the stream of API input\n",
    "    def function(apiString):\n",
    "        ##Functionaloty not defined because structure of API is not knwon\n",
    "        ##Essential finction is to read in API and feed data into both dictionaries\n",
    "\n",
    "    ##This function sweeps the two dictionaries to determine if there are any potential Triangles\n",
    "    def sweep():\n",
    "        \n",
    "        check_dict = {}\n",
    "        \n",
    "        ##Iterate through the exchange rates into the root coin\n",
    "        for keyIn in in_dictionary:\n",
    "            \n",
    "            ##Match with exchange rates going out to determine if potential\n",
    "            ##viability\n",
    "            \n",
    "            ##Note, in order to compare, further analysis on the pricing of each of the exchanges\n",
    "            ##needs to be done in full version to assure that comparison makes sense.\n",
    "            for keyOut in out_dictionary:\n",
    "                \n",
    "                if keyIn.value() > keyOut.value() && keyIn != keyOut:\n",
    "                    \n",
    "                    check_dict.update({keyIn : keyOut});\n",
    "                \n",
    "        \n",
    "        return check_dict\n",
    "    \n",
    "    ##These functions return the dictionary of choice\n",
    "    def getIndict():\n",
    "        \n",
    "        return in_dict\n",
    "    \n",
    "     def getOutdict():\n",
    "        \n",
    "        return out_dict\n",
    "        \n",
    "        "
   ]
  },
  {
   "cell_type": "markdown",
   "metadata": {},
   "source": [
    "<br>\n",
    "\n",
    "The function _sweep_ is the basic logic for checking to see if there is a possible exchange that could be initiated.\n",
    "\n",
    "This information must then be checked with the dictionary of the _keyOut_ variable to determine if the exhange with _keyIn_ would push for a he development of a profitable triangle.\n",
    "\n",
    "This code displays the two functions that initiate the the two waves of validation for traingle formation.\n",
    "\n",
    "Below is a conceptual diagram of the logic.\n",
    "<br>\n",
    "![Logic](https://i.imgur.com/ibX05S6.png)\n"
   ]
  },
  {
   "cell_type": "code",
   "execution_count": 4,
   "metadata": {},
   "outputs": [],
   "source": [
    "##This function pulls the third exchange rate for all validated exchange pairs\n",
    "##from the sweep function in coin_Node\n",
    "def third_link(masterBook, root_key, feed_key):\n",
    "    \n",
    "    for key in masterBook:\n",
    "        \n",
    "        if root_key == key:\n",
    "            \n",
    "            return root_key.value().getOutdict()[feed_key]\n",
    "\n",
    "##Check to see if all the exchange rates together would make a\n",
    "##profit triangle\n",
    "def triThresh():\n",
    "    \n",
    "    ##Apply an algorithm that determine the cost the end amount of the root coin in comparison to how much would be put in\n",
    "    ##This would take into consideration the 3 echange rates and the transaction frees\n",
    "    \n",
    "    exchange = False\n",
    "    \n",
    "    return exchange"
   ]
  },
  {
   "cell_type": "code",
   "execution_count": null,
   "metadata": {},
   "outputs": [],
   "source": []
  }
 ],
 "metadata": {
  "kernelspec": {
   "display_name": "Python 2",
   "language": "python",
   "name": "python2"
  },
  "language_info": {
   "codemirror_mode": {
    "name": "ipython",
    "version": 2
   },
   "file_extension": ".py",
   "mimetype": "text/x-python",
   "name": "python",
   "nbconvert_exporter": "python",
   "pygments_lexer": "ipython2",
   "version": "2.7.15"
  }
 },
 "nbformat": 4,
 "nbformat_minor": 2
}
